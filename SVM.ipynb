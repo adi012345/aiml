{
 "cells": [
  {
   "cell_type": "code",
   "execution_count": null,
   "id": "5fff698e",
   "metadata": {},
   "outputs": [],
   "source": [
    "# 7 Task: Implement SVM for classication on the dataset.\n",
    "\n",
    "#New dataset: Employee Job Satisfaction\n",
    "data = pd.read_csv(\"employee.csv\")\n",
    "\n",
    "#Create DataFrame\n",
    "df = pd.DataFrame(data)\n",
    "df"
   ]
  },
  {
   "cell_type": "code",
   "execution_count": 1,
   "id": "814dd12a",
   "metadata": {},
   "outputs": [
    {
     "name": "stdout",
     "output_type": "stream",
     "text": [
      "Accuracy: 1.00\n",
      "Classification Report:\n",
      "              precision    recall  f1-score   support\n",
      "\n",
      "           0       1.00      1.00      1.00         1\n",
      "\n",
      "    accuracy                           1.00         1\n",
      "   macro avg       1.00      1.00      1.00         1\n",
      "weighted avg       1.00      1.00      1.00         1\n",
      "\n",
      "Confusion Matrix:\n",
      "[[1]]\n"
     ]
    },
    {
     "name": "stderr",
     "output_type": "stream",
     "text": [
      "C:\\Users\\ADMANTIUM\\anaconda3\\lib\\site-packages\\sklearn\\base.py:465: UserWarning: X does not have valid feature names, but SVC was fitted with feature names\n",
      "  warnings.warn(\n"
     ]
    },
    {
     "data": {
      "image/png": "[encoded data removed]",
      "text/plain": [
       "<Figure size 432x288 with 1 Axes>"
      ]
     },
     "metadata": {
      "needs_background": "light"
     },
     "output_type": "display_data"
    }
   ],
   "source": [
    "import pandas as pd\n",
    "from sklearn.model_selection import train_test_split\n",
    "from sklearn.preprocessing import LabelEncoder\n",
    "from sklearn.svm import SVC\n",
    "from sklearn.metrics import accuracy_score, classification_report, confusion_matrix\n",
    "import matplotlib.pyplot as plt\n",
    "import numpy as np\n",
    "\n",
    "# Sample dataset\n",
    "data = {\n",
    "    'Email ID': [1, 2, 3, 4, 5],\n",
    "    'Free (E)': ['Yes', 'No', 'Yes', 'No', 'Yes'],\n",
    "    'Win (F)': ['No', 'Yes', 'Yes', 'No', 'No'],\n",
    "    'Age': [23, 45, 34, 50, 30],\n",
    "    'Income': [50000, 60000, 70000, 55000, 48000],\n",
    "    'Spam (H)': ['Spam', 'Not Spam', 'Spam', 'Not Spam', 'Spam']\n",
    "}\n",
    "\n",
    "# Create DataFrame\n",
    "df = pd.DataFrame(data)\n",
    "\n",
    "# Convert categorical data into numerical values using Label Encoding\n",
    "label_encoder = LabelEncoder()\n",
    "df['Free (E)'] = label_encoder.fit_transform(df['Free (E)'])\n",
    "df['Win (F)'] = label_encoder.fit_transform(df['Win (F)'])\n",
    "df['Spam (H)'] = label_encoder.fit_transform(df['Spam (H)'])  # Target column\n",
    "\n",
    "# Features (X) and target (y)\n",
    "X = df[['Free (E)', 'Win (F)', 'Age', 'Income']]  # Features\n",
    "y = df['Spam (H)']  # Target\n",
    "\n",
    "# Split the dataset into training and testing sets (80% train, 20% test)\n",
    "X_train, X_test, y_train, y_test = train_test_split(X, y, test_size=0.2, random_state=42)\n",
    "\n",
    "# Initialize the SVM Classifier\n",
    "svm_clf = SVC(kernel='linear', random_state=42)\n",
    "\n",
    "# Train the model\n",
    "svm_clf.fit(X_train, y_train)\n",
    "\n",
    "# Predict on the test data\n",
    "y_pred = svm_clf.predict(X_test)\n",
    "\n",
    "# Evaluate the model\n",
    "accuracy = accuracy_score(y_test, y_pred)\n",
    "print(f\"Accuracy: {accuracy:.2f}\")\n",
    "print(\"Classification Report:\")\n",
    "print(classification_report(y_test, y_pred))\n",
    "print(\"Confusion Matrix:\")\n",
    "print(confusion_matrix(y_test, y_pred))\n",
    "\n",
    "# Visualizing the SVM decision boundary (for Free (E) vs Win (F) only)\n",
    "X_vis = X[['Free (E)', 'Win (F)']]  # Two features for visualization\n",
    "X_train_vis, X_test_vis, y_train_vis, y_test_vis = train_test_split(X_vis, y, test_size=0.2, random_state=42)\n",
    "\n",
    "# Train the SVM with the selected features\n",
    "svm_clf_vis = SVC(kernel='linear', random_state=42)\n",
    "svm_clf_vis.fit(X_train_vis, y_train_vis)\n",
    "\n",
    "# Create a mesh grid for visualization\n",
    "x_min, x_max = X_vis['Free (E)'].min() - 1, X_vis['Free (E)'].max() + 1\n",
    "y_min, y_max = X_vis['Win (F)'].min() - 1, X_vis['Win (F)'].max() + 1\n",
    "xx, yy = np.meshgrid(np.arange(x_min, x_max, 0.01),\n",
    "                     np.arange(y_min, y_max, 0.01))\n",
    "\n",
    "# Predict on the mesh grid\n",
    "Z = svm_clf_vis.predict(np.c_[xx.ravel(), yy.ravel()])\n",
    "Z = Z.reshape(xx.shape)\n",
    "\n",
    "# Plotting the decision boundary\n",
    "plt.contourf(xx, yy, Z, alpha=0.8)\n",
    "plt.scatter(X_vis['Free (E)'], X_vis['Win (F)'], c=y, edgecolors='k', marker='o', s=100)\n",
    "plt.title(\"SVM Decision Boundary (for Free (E) vs Win (F))\")\n",
    "plt.xlabel('Free (E)')\n",
    "plt.ylabel('Win (F)')\n",
    "plt.show()\n"
   ]
  }
 ],
 "metadata": {
  "kernelspec": {
   "display_name": "Python 3",
   "language": "python",
   "name": "python3"
  },
  "language_info": {
   "codemirror_mode": {
    "name": "ipython",
    "version": 3
   },
   "file_extension": ".py",
   "mimetype": "text/x-python",
   "name": "python",
   "nbconvert_exporter": "python",
   "pygments_lexer": "ipython3",
   "version": "3.8.8"
  }
 },
 "nbformat": 4,
 "nbformat_minor": 5
}
