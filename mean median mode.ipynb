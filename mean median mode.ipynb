{
 "cells": [
  {
   "cell_type": "code",
   "execution_count": 2,
   "id": "cfd6b327-da22-47a2-a7fc-8bbfc4342d28",
   "metadata": {},
   "outputs": [],
   "source": [
    "import numpy as np\n",
    "from scipy import stats"
   ]
  },
  {
   "cell_type": "code",
   "execution_count": 3,
   "id": "ac31e1a9-b2dc-4677-a025-805eac9a5431",
   "metadata": {},
   "outputs": [],
   "source": [
    "# Sample dataset\n",
    "data = [10, 20, 20, 30, 40, 50, 60, 60, 60, 70]"
   ]
  },
  {
   "cell_type": "code",
   "execution_count": 4,
   "id": "4ed4d459-761b-47af-87c3-7e1e0633653b",
   "metadata": {},
   "outputs": [
    {
     "name": "stdout",
     "output_type": "stream",
     "text": [
      "Mean: 42.0\n"
     ]
    }
   ],
   "source": [
    "# 1. Mean\n",
    "mean_value = np.mean(data)\n",
    "print(f\"Mean: {mean_value}\")"
   ]
  },
  {
   "cell_type": "code",
   "execution_count": 5,
   "id": "46c0bb25-6e5b-4758-92fa-880c688491e6",
   "metadata": {},
   "outputs": [
    {
     "name": "stdout",
     "output_type": "stream",
     "text": [
      "Median: 45.0\n"
     ]
    }
   ],
   "source": [
    "# 2. Median\n",
    "median_value = np.median(data)\n",
    "print(f\"Median: {median_value}\")"
   ]
  },
  {
   "cell_type": "code",
   "execution_count": 8,
   "id": "53fe7174-3ba9-4354-be80-dba27b8a2a04",
   "metadata": {},
   "outputs": [
    {
     "name": "stdout",
     "output_type": "stream",
     "text": [
      "Mean: 42.0\n",
      "Median: 45.0\n",
      "Mode: 60\n",
      "Standard Deviation: 19.8997487421324\n",
      "Z-scores:  [np.float64(-1.6080605044147394), np.float64(-1.1055415967851332), np.float64(-1.1055415967851332), np.float64(-0.6030226891555273), np.float64(-0.10050378152592121), np.float64(0.40201512610368484), np.float64(0.9045340337332909), np.float64(0.9045340337332909), np.float64(0.9045340337332909), np.float64(1.407052941362897)]\n"
     ]
    }
   ],
   "source": [
    "# Sample dataset\n",
    "data = [10, 20, 20, 30, 40, 50, 60, 60, 60, 70]\n",
    "\n",
    "# 1. Mean\n",
    "mean_value = np.mean(data)\n",
    "print(f\"Mean: {mean_value}\")\n",
    "\n",
    "# 2. Median\n",
    "median_value = np.median(data)\n",
    "print(f\"Median: {median_value}\")\n",
    "\n",
    "# 3. Mode\n",
    "mode_result = stats.mode(data, keepdims=True)  # Using keepdims=True to maintain compatibility\n",
    "mode_value = mode_result.mode[0]\n",
    "print(f\"Mode: {mode_value}\")\n",
    "\n",
    "# 4. Standard Deviation\n",
    "std_deviation = np.std(data)\n",
    "print(f\"Standard Deviation: {std_deviation}\")\n",
    "\n",
    "# 5. Z-score for each value\n",
    "z_scores = [(x - mean_value) / std_deviation for x in data]\n",
    "print(\"Z-scores: \", z_scores)"
   ]
  },
  {
   "cell_type": "code",
   "execution_count": null,
   "id": "ece4250f-baa1-4f85-8452-cbec7bbea746",
   "metadata": {},
   "outputs": [],
   "source": [
    "#New dataset: Employee Job Satisfaction\n",
    "data = pd.read_csv(\"employee.csv\")\n",
    "\n",
    "#Create DataFrame\n",
    "df = pd.DataFrame(data)\n",
    "df"
   ]
  }
 ],
 "metadata": {
  "kernelspec": {
   "display_name": "Python 3 (ipykernel)",
   "language": "python",
   "name": "python3"
  },
  "language_info": {
   "codemirror_mode": {
    "name": "ipython",
    "version": 3
   },
   "file_extension": ".py",
   "mimetype": "text/x-python",
   "name": "python",
   "nbconvert_exporter": "python",
   "pygments_lexer": "ipython3",
   "version": "3.12.3"
  }
 },
 "nbformat": 4,
 "nbformat_minor": 5
}
