{
 "cells": [
  {
   "cell_type": "code",
   "execution_count": null,
   "id": "873f29be",
   "metadata": {},
   "outputs": [],
   "source": [
    "# 8 Task: Apply K-Means to cluster the given dataset and visualize the results.\n",
    "\n",
    "#New dataset: Employee Job Satisfaction\n",
    "data = pd.read_csv(\"employee.csv\")\n",
    "\n",
    "#Create DataFrame\n",
    "df = pd.DataFrame(data)\n",
    "df"
   ]
  },
  {
   "cell_type": "code",
   "execution_count": 1,
   "id": "3f3caf18",
   "metadata": {},
   "outputs": [
    {
     "name": "stdout",
     "output_type": "stream",
     "text": [
      "Transformed Dataset:\n",
      "   Email ID  Free (E)  Win (F)  Age  Income  Spam (H)\n",
      "0         1         1        0   23   50000         1\n",
      "1         2         0        1   45   60000         0\n",
      "2         3         1        1   34   70000         1\n",
      "3         4         0        0   50   55000         0\n",
      "4         5         1        0   30   48000         1\n"
     ]
    },
    {
     "name": "stderr",
     "output_type": "stream",
     "text": [
      "C:\\Users\\ADMANTIUM\\anaconda3\\lib\\site-packages\\sklearn\\cluster\\_kmeans.py:1416: FutureWarning: The default value of `n_init` will change from 10 to 'auto' in 1.4. Set the value of `n_init` explicitly to suppress the warning\n",
      "  super()._check_params_vs_input(X, default_n_init=10)\n",
      "C:\\Users\\ADMANTIUM\\anaconda3\\lib\\site-packages\\sklearn\\cluster\\_kmeans.py:1440: UserWarning: KMeans is known to have a memory leak on Windows with MKL, when there are less chunks than available threads. You can avoid it by setting the environment variable OMP_NUM_THREADS=1.\n",
      "  warnings.warn(\n"
     ]
    },
    {
     "name": "stdout",
     "output_type": "stream",
     "text": [
      "\n",
      "Cluster Centers:\n",
      "[[5.00000000e-01 1.00000000e+00 3.95000000e+01 6.50000000e+04]\n",
      " [6.66666667e-01 0.00000000e+00 3.43333333e+01 5.10000000e+04]]\n",
      "\n",
      "Clustered Data:\n",
      "   Free (E)  Win (F)  Age  Income  Cluster\n",
      "0         1        0   23   50000        1\n",
      "1         0        1   45   60000        0\n",
      "2         1        1   34   70000        0\n",
      "3         0        0   50   55000        1\n",
      "4         1        0   30   48000        1\n"
     ]
    },
    {
     "name": "stderr",
     "output_type": "stream",
     "text": [
      "C:\\Users\\ADMANTIUM\\anaconda3\\lib\\site-packages\\sklearn\\cluster\\_kmeans.py:1416: FutureWarning: The default value of `n_init` will change from 10 to 'auto' in 1.4. Set the value of `n_init` explicitly to suppress the warning\n",
      "  super()._check_params_vs_input(X, default_n_init=10)\n",
      "C:\\Users\\ADMANTIUM\\anaconda3\\lib\\site-packages\\sklearn\\cluster\\_kmeans.py:1440: UserWarning: KMeans is known to have a memory leak on Windows with MKL, when there are less chunks than available threads. You can avoid it by setting the environment variable OMP_NUM_THREADS=1.\n",
      "  warnings.warn(\n"
     ]
    },
    {
     "data": {
      "image/png": "[encoded data removed]",
      "text/plain": [
       "<Figure size 576x432 with 1 Axes>"
      ]
     },
     "metadata": {
      "needs_background": "light"
     },
     "output_type": "display_data"
    }
   ],
   "source": [
    "import pandas as pd\n",
    "from sklearn.model_selection import train_test_split\n",
    "from sklearn.preprocessing import LabelEncoder\n",
    "from sklearn.cluster import KMeans\n",
    "from sklearn.decomposition import PCA\n",
    "import matplotlib.pyplot as plt\n",
    "\n",
    "# Sample dataset\n",
    "data = {\n",
    "    'Email ID': [1, 2, 3, 4, 5],\n",
    "    'Free (E)': ['Yes', 'No', 'Yes', 'No', 'Yes'],\n",
    "    'Win (F)': ['No', 'Yes', 'Yes', 'No', 'No'],\n",
    "    'Age': [23, 45, 34, 50, 30],\n",
    "    'Income': [50000, 60000, 70000, 55000, 48000],\n",
    "    'Spam (H)': ['Spam', 'Not Spam', 'Spam', 'Not Spam', 'Spam']\n",
    "}\n",
    "\n",
    "# Create DataFrame\n",
    "df = pd.DataFrame(data)\n",
    "\n",
    "# Convert categorical data into numerical values using Label Encoding\n",
    "label_encoder = LabelEncoder()\n",
    "df['Free (E)'] = label_encoder.fit_transform(df['Free (E)'])\n",
    "df['Win (F)'] = label_encoder.fit_transform(df['Win (F)'])\n",
    "df['Spam (H)'] = label_encoder.fit_transform(df['Spam (H)'])  # Target column\n",
    "\n",
    "# Show the transformed dataset\n",
    "print(\"Transformed Dataset:\")\n",
    "print(df)\n",
    "\n",
    "# Features for clustering (X)\n",
    "X = df[['Free (E)', 'Win (F)', 'Age', 'Income']]  # Features for clustering\n",
    "\n",
    "# Applying KMeans clustering\n",
    "kmeans = KMeans(n_clusters=2, random_state=42)  # We choose 2 clusters (Spam and Not Spam)\n",
    "kmeans.fit(X)\n",
    "\n",
    "# Get the cluster labels\n",
    "df['Cluster'] = kmeans.labels_\n",
    "\n",
    "# Print the cluster centers and labels\n",
    "print(\"\\nCluster Centers:\")\n",
    "print(kmeans.cluster_centers_)\n",
    "\n",
    "print(\"\\nClustered Data:\")\n",
    "print(df[['Free (E)', 'Win (F)', 'Age', 'Income', 'Cluster']])\n",
    "\n",
    "# Reduce the data to 2D using PCA for visualization\n",
    "pca = PCA(n_components=2)\n",
    "X_pca = pca.fit_transform(X)\n",
    "\n",
    "# Apply KMeans clustering again to get cluster labels\n",
    "kmeans = KMeans(n_clusters=2, random_state=42)\n",
    "kmeans.fit(X)\n",
    "\n",
    "# Plot the results\n",
    "plt.figure(figsize=(8, 6))\n",
    "plt.scatter(X_pca[:, 0], X_pca[:, 1], c=kmeans.labels_, cmap='viridis', marker='o')\n",
    "plt.scatter(kmeans.cluster_centers_[:, 0], kmeans.cluster_centers_[:, 1], s=300, c='red', marker='X', label='Centroids')\n",
    "plt.title('K-Means Clustering Results')\n",
    "plt.xlabel('PCA Component 1')\n",
    "plt.ylabel('PCA Component 2')\n",
    "plt.legend()\n",
    "plt.show()\n"
   ]
  }
 ],
 "metadata": {
  "kernelspec": {
   "display_name": "Python 3",
   "language": "python",
   "name": "python3"
  },
  "language_info": {
   "codemirror_mode": {
    "name": "ipython",
    "version": 3
   },
   "file_extension": ".py",
   "mimetype": "text/x-python",
   "name": "python",
   "nbconvert_exporter": "python",
   "pygments_lexer": "ipython3",
   "version": "3.8.8"
  }
 },
 "nbformat": 4,
 "nbformat_minor": 5
}
