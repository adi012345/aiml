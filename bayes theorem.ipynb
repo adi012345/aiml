{
 "cells": [
  {
   "cell_type": "code",
   "execution_count": 2,
   "id": "60b69e5d",
   "metadata": {},
   "outputs": [
    {
     "name": "stdout",
     "output_type": "stream",
     "text": [
      "Prior Probability of Spam (P(Spam)): 0.5\n",
      "Prior Probability of Not Spam (P(Not Spam)): 0.5\n",
      "Likelihood of 'free' given Spam (P(free|spam)): 1.0\n",
      "Likelihood of 'free' given Not Spam (P(free|not spam)): 0.0\n",
      "Evidence (P(E)): 0.5\n",
      "Posterior Probability of Spam given 'free' (P(Spam|free)): 1.0\n",
      "Posterior Probability of Not Spam given 'free' (P(Not Spam|free)): 0.0\n"
     ]
    }
   ],
   "source": [
    "import pandas as pd\n",
    "\n",
    "# Sample dataset: Email ID, Feature (Word \"free\" Present), Target (Spam or Not Spam)\n",
    "data = {\n",
    "    'Email ID': [1, 2, 3, 4, 5, 6, 7, 8, 9, 10],\n",
    "    'Free (E)': ['Yes', 'No', 'Yes', 'No', 'Yes', 'No', 'Yes', 'No', 'Yes', 'No'],\n",
    "    'Spam (H)': ['Spam', 'Not Spam', 'Spam', 'Not Spam', 'Spam', 'Not Spam', 'Spam', 'Not Spam', 'Spam', 'Not Spam']\n",
    "}\n",
    "\n",
    "df = pd.DataFrame(data)\n",
    "\n",
    "# Step 1: Calculate Prior Probabilities (P(H))\n",
    "prior_spam = df['Spam (H)'].value_counts(normalize=True)['Spam']\n",
    "prior_not_spam = df['Spam (H)'].value_counts(normalize=True)['Not Spam']\n",
    "\n",
    "# Step 2: Calculate Likelihoods (P(E|H))\n",
    "# Likelihood of the word \"free\" given spam (P(free|spam))\n",
    "likelihood_free_given_spam = len(df[(df['Free (E)'] == 'Yes') & (df['Spam (H)'] == 'Spam')]) / len(df[df['Spam (H)'] == 'Spam'])\n",
    "\n",
    "# Likelihood of the word \"free\" given not spam (P(free|not spam))\n",
    "likelihood_free_given_not_spam = len(df[(df['Free (E)'] == 'Yes') & (df['Spam (H)'] == 'Not Spam')]) / len(df[df['Spam (H)'] == 'Not Spam'])\n",
    "\n",
    "# Step 3: Calculate Evidence (P(E))\n",
    "evidence = (likelihood_free_given_spam * prior_spam) + (likelihood_free_given_not_spam * prior_not_spam)\n",
    "\n",
    "# Step 4: Apply Bayes' Theorem (P(H|E)) to calculate posterior probability for Spam\n",
    "posterior_spam_given_free = (likelihood_free_given_spam * prior_spam) / evidence\n",
    "\n",
    "# Apply Bayes' Theorem (P(H|E)) to calculate posterior probability for Not Spam\n",
    "posterior_not_spam_given_free = (likelihood_free_given_not_spam * prior_not_spam) / evidence\n",
    "\n",
    "# Output the results\n",
    "print(f\"Prior Probability of Spam (P(Spam)): {prior_spam}\")\n",
    "print(f\"Prior Probability of Not Spam (P(Not Spam)): {prior_not_spam}\")\n",
    "print(f\"Likelihood of 'free' given Spam (P(free|spam)): {likelihood_free_given_spam}\")\n",
    "print(f\"Likelihood of 'free' given Not Spam (P(free|not spam)): {likelihood_free_given_not_spam}\")\n",
    "print(f\"Evidence (P(E)): {evidence}\")\n",
    "print(f\"Posterior Probability of Spam given 'free' (P(Spam|free)): {posterior_spam_given_free}\")\n",
    "print(f\"Posterior Probability of Not Spam given 'free' (P(Not Spam|free)): {posterior_not_spam_given_free}\")\n"
   ]
  },
  {
   "cell_type": "code",
   "execution_count": null,
   "id": "5202a347",
   "metadata": {},
   "outputs": [],
   "source": [
    "#New dataset: Employee Job Satisfaction\n",
    "data = pd.read_csv(\"employee.csv\")\n",
    "\n",
    "#Create DataFrame\n",
    "df = pd.DataFrame(data)\n",
    "df"
   ]
  },
  {
   "cell_type": "code",
   "execution_count": null,
   "id": "7f0e8ae1",
   "metadata": {},
   "outputs": [],
   "source": []
  }
 ],
 "metadata": {
  "kernelspec": {
   "display_name": "Python 3",
   "language": "python",
   "name": "python3"
  },
  "language_info": {
   "codemirror_mode": {
    "name": "ipython",
    "version": 3
   },
   "file_extension": ".py",
   "mimetype": "text/x-python",
   "name": "python",
   "nbconvert_exporter": "python",
   "pygments_lexer": "ipython3",
   "version": "3.8.8"
  }
 },
 "nbformat": 4,
 "nbformat_minor": 5
}
