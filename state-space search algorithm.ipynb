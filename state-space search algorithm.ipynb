{
 "cells": [
  {
   "cell_type": "code",
   "execution_count": null,
   "id": "a95921c9",
   "metadata": {},
   "outputs": [],
   "source": [
    "# 4 Implement a state-space search algorithm for a given problem scenario in the datase\n",
    "\n",
    "#New dataset: Employee Job Satisfaction\n",
    "data = pd.read_csv(\"employee.csv\")\n",
    "\n",
    "#Create DataFrame\n",
    "df = pd.DataFrame(data)\n",
    "df"
   ]
  },
  {
   "cell_type": "code",
   "execution_count": 2,
   "id": "36e720c3",
   "metadata": {},
   "outputs": [
    {
     "name": "stdout",
     "output_type": "stream",
     "text": [
      "Exploring Email ID 1 - Features: Free = Yes, Win = No, Age = 23, Income = 50000\n",
      "Goal Reached: Email ID 1 is Spam!\n",
      "Final classification: Spam\n"
     ]
    }
   ],
   "source": [
    "import pandas as pd\n",
    "from collections import deque\n",
    "\n",
    "# Sample dataset\n",
    "data = {\n",
    "    'Email ID': [1, 2, 3, 4, 5],\n",
    "    'Free (E)': ['Yes', 'No', 'Yes', 'No', 'Yes'],\n",
    "    'Win (F)': ['No', 'Yes', 'Yes', 'No', 'No'],\n",
    "    'Age': [23, 45, 34, 50, 30],\n",
    "    'Income': [50000, 60000, 70000, 55000, 48000],\n",
    "    'Spam (H)': ['Spam', 'Not Spam', 'Spam', 'Not Spam', 'Spam']\n",
    "}\n",
    "\n",
    "# Create DataFrame\n",
    "df = pd.DataFrame(data)\n",
    "\n",
    "# State-Space Search using BFS\n",
    "def bfs_search(df):\n",
    "    # Create a queue to explore states\n",
    "    queue = deque()\n",
    "    \n",
    "    # Start with the initial state (first email in the dataset)\n",
    "    start_state = df.iloc[0]  # Taking the first email as starting point\n",
    "    queue.append(start_state)\n",
    "    \n",
    "    # Visited set to avoid revisiting the same state\n",
    "    visited = set()\n",
    "    \n",
    "    while queue:\n",
    "        current_state = queue.popleft()\n",
    "        \n",
    "        # Check if we have already visited this state\n",
    "        if current_state['Email ID'] in visited:\n",
    "            continue\n",
    "        visited.add(current_state['Email ID'])\n",
    "        \n",
    "        # Print the current state\n",
    "        print(f\"Exploring Email ID {current_state['Email ID']} - Features: Free = {current_state['Free (E)']}, Win = {current_state['Win (F)']}, Age = {current_state['Age']}, Income = {current_state['Income']}\")\n",
    "        \n",
    "        # Check if it's a goal state (Spam or Not Spam classification)\n",
    "        if current_state['Spam (H)'] == 'Spam':\n",
    "            print(f\"Goal Reached: Email ID {current_state['Email ID']} is Spam!\")\n",
    "            return current_state\n",
    "        \n",
    "        # Generate the next state (Here we can add more complex transitions if needed)\n",
    "        # For simplicity, just add the next email as a transition to the state space\n",
    "        next_email_idx = current_state.name + 1\n",
    "        if next_email_idx < len(df):\n",
    "            next_state = df.iloc[next_email_idx]\n",
    "            queue.append(next_state)\n",
    "    \n",
    "    return None\n",
    "\n",
    "# Run BFS search on the dataset\n",
    "result = bfs_search(df)\n",
    "if result is not None:\n",
    "    print(f\"Final classification: {result['Spam (H)']}\")\n",
    "else:\n",
    "    print(\"No goal state reached!\")\n"
   ]
  }
 ],
 "metadata": {
  "kernelspec": {
   "display_name": "Python 3",
   "language": "python",
   "name": "python3"
  },
  "language_info": {
   "codemirror_mode": {
    "name": "ipython",
    "version": 3
   },
   "file_extension": ".py",
   "mimetype": "text/x-python",
   "name": "python",
   "nbconvert_exporter": "python",
   "pygments_lexer": "ipython3",
   "version": "3.8.8"
  }
 },
 "nbformat": 4,
 "nbformat_minor": 5
}
