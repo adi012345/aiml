{
 "cells": [
  {
   "cell_type": "code",
   "execution_count": null,
   "id": "6770e311",
   "metadata": {},
   "outputs": [],
   "source": [
    "# 10 Task: Apply Principal Component Analysis to reduce the dimensionality of the dataset.\n",
    "#New dataset: Employee Job Satisfaction\n",
    "data = pd.read_csv(\"employee.csv\")\n",
    "\n",
    "#Create DataFrame\n",
    "df = pd.DataFrame(data)\n",
    "df"
   ]
  },
  {
   "cell_type": "code",
   "execution_count": 1,
   "id": "be270014",
   "metadata": {},
   "outputs": [
    {
     "name": "stdout",
     "output_type": "stream",
     "text": [
      "Transformed Dataset:\n",
      "   Email ID  Free (E)  Win (F)  Age  Income  Spam (H)\n",
      "0         1         1        0   23   50000         1\n",
      "1         2         0        1   45   60000         0\n",
      "2         3         1        1   34   70000         1\n",
      "3         4         0        0   50   55000         0\n",
      "4         5         1        0   30   48000         1\n",
      "\n",
      "Data after PCA (2D):\n",
      "[[ 1.93658881  0.19097872]\n",
      " [-1.86950892 -0.20585894]\n",
      " [-0.89934126  2.03933974]\n",
      " [-0.84032372 -1.77700073]\n",
      " [ 1.6725851  -0.24745879]]\n"
     ]
    },
    {
     "data": {
      "image/png": "[encoded data removed]",
      "text/plain": [
       "<Figure size 576x432 with 2 Axes>"
      ]
     },
     "metadata": {
      "needs_background": "light"
     },
     "output_type": "display_data"
    }
   ],
   "source": [
    "import pandas as pd\n",
    "from sklearn.preprocessing import LabelEncoder, StandardScaler\n",
    "from sklearn.decomposition import PCA\n",
    "import matplotlib.pyplot as plt\n",
    "\n",
    "# Sample dataset\n",
    "data = {\n",
    "    'Email ID': [1, 2, 3, 4, 5],\n",
    "    'Free (E)': ['Yes', 'No', 'Yes', 'No', 'Yes'],\n",
    "    'Win (F)': ['No', 'Yes', 'Yes', 'No', 'No'],\n",
    "    'Age': [23, 45, 34, 50, 30],\n",
    "    'Income': [50000, 60000, 70000, 55000, 48000],\n",
    "    'Spam (H)': ['Spam', 'Not Spam', 'Spam', 'Not Spam', 'Spam']\n",
    "}\n",
    "\n",
    "# Create DataFrame\n",
    "df = pd.DataFrame(data)\n",
    "\n",
    "# Convert categorical data into numerical values using Label Encoding\n",
    "label_encoder = LabelEncoder()\n",
    "df['Free (E)'] = label_encoder.fit_transform(df['Free (E)'])\n",
    "df['Win (F)'] = label_encoder.fit_transform(df['Win (F)'])\n",
    "df['Spam (H)'] = label_encoder.fit_transform(df['Spam (H)'])  # Target column\n",
    "\n",
    "# Show the transformed dataset\n",
    "print(\"Transformed Dataset:\")\n",
    "print(df)\n",
    "\n",
    "# Features for PCA (excluding the target column 'Spam (H)')\n",
    "X = df[['Free (E)', 'Win (F)', 'Age', 'Income']]\n",
    "\n",
    "# Standardize the features\n",
    "scaler = StandardScaler()\n",
    "X_scaled = scaler.fit_transform(X)\n",
    "\n",
    "# Apply PCA to reduce the data to 2 dimensions\n",
    "pca = PCA(n_components=2)\n",
    "X_pca = pca.fit_transform(X_scaled)\n",
    "\n",
    "# Show the transformed data after PCA\n",
    "print(\"\\nData after PCA (2D):\")\n",
    "print(X_pca)\n",
    "\n",
    "# Create a DataFrame for the PCA results\n",
    "pca_df = pd.DataFrame(X_pca, columns=['PC1', 'PC2'])\n",
    "\n",
    "# Plot the PCA result\n",
    "plt.figure(figsize=(8, 6))\n",
    "plt.scatter(pca_df['PC1'], pca_df['PC2'], c=df['Spam (H)'], cmap='viridis', edgecolor='k', s=100)\n",
    "plt.title('PCA - 2D Projection of the Data')\n",
    "plt.xlabel('Principal Component 1')\n",
    "plt.ylabel('Principal Component 2')\n",
    "plt.colorbar(label='Spam (H)')\n",
    "plt.show()\n"
   ]
  }
 ],
 "metadata": {
  "kernelspec": {
   "display_name": "Python 3",
   "language": "python",
   "name": "python3"
  },
  "language_info": {
   "codemirror_mode": {
    "name": "ipython",
    "version": 3
   },
   "file_extension": ".py",
   "mimetype": "text/x-python",
   "name": "python",
   "nbconvert_exporter": "python",
   "pygments_lexer": "ipython3",
   "version": "3.8.8"
  }
 },
 "nbformat": 4,
 "nbformat_minor": 5
}
